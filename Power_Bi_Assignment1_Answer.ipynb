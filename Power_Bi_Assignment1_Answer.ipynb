{
 "cells": [
  {
   "cell_type": "markdown",
   "id": "f18a7b8b",
   "metadata": {},
   "source": [
    "# Power BI Assignment 1"
   ]
  },
  {
   "cell_type": "markdown",
   "id": "478ff488",
   "metadata": {},
   "source": [
    "### 1. What do you mean by BI? Explain."
   ]
  },
  {
   "cell_type": "markdown",
   "id": "619ee05d",
   "metadata": {},
   "source": [
    "* Business Intelligence is the process by which enterprises use strategies and technolohies for analyzing current and historical data.\n",
    "* BI systems combine data gathering, data storage and knowledge management with data analysis to evaluate and transform complex data into meaningful, actionable information, which can be used to support more effective strategic, tatical and operational insights and decision-making.\n"
   ]
  },
  {
   "cell_type": "markdown",
   "id": "fa84350e",
   "metadata": {},
   "source": [
    "### 2. How Power-BI helps in BI, and how does it help Analysts? Explain."
   ]
  },
  {
   "cell_type": "markdown",
   "id": "20d9ca3d",
   "metadata": {},
   "source": [
    "*  Power-BI is a BI data visualization tool that connects various source of data, clean it up and transform it into a data model for clear data visualization (graphs, charts etc.) and share it with other users within your organization.\n",
    "*  One of the main strenghts of Power-BI is its interactive user interface that allows both technical and non-technical analysts to build data visualizations and analyses efficiently.\n",
    "*  Power-BI comes with many reporting features for users to create well-designed interactive dashboards, where data is obtained from multiple sources and presented visually in charts and graphs to give a sense of the company's processes and strategies."
   ]
  },
  {
   "cell_type": "markdown",
   "id": "ef7ed764",
   "metadata": {},
   "source": [
    "### 3. Explain Descriptive Analytics? "
   ]
  },
  {
   "cell_type": "markdown",
   "id": "4b76d735",
   "metadata": {},
   "source": [
    "*  Descriptive Analytics is the examination of data or content describes the use of a range of historic data to draw comparisons.\n",
    "*  It is the type of analysis of data that helps describe, show or summarize data points in a constructive way such that patterns might emerge that fulfill every condition of the data.\n",
    "*  it is the process of using current and historical data to identify trends and relationships."
   ]
  },
  {
   "cell_type": "markdown",
   "id": "88cf653f",
   "metadata": {},
   "source": [
    "### 4. Explain Predictive Analytics?"
   ]
  },
  {
   "cell_type": "markdown",
   "id": "3df88c31",
   "metadata": {},
   "source": [
    "*  Predictive Analytics refers to using historical data, Machine Learning and Artificial Intelligence to predict what will happen in the future.\n",
    "*  Encompasses a variety of statistical techniques from data mining, predictive modelling and Machine Learning that analyze current and historical facts to make predictions about future or unknown events. \n",
    "*  That predictive model is then used on current data to predict what will happen next and suggest actions to take for optimal outcomes."
   ]
  },
  {
   "cell_type": "markdown",
   "id": "448689b4",
   "metadata": {},
   "source": [
    "### 5. Explain Perspective Analytics? "
   ]
  },
  {
   "cell_type": "markdown",
   "id": "a344874d",
   "metadata": {},
   "source": [
    "*  Perspective Analytics makes use of Machine Learning to help business decide a course of action, based on a computer program's predictions.\n",
    "*  Its goal to help answer questions about what should be done to make something happen in future. It analyzes raw data about past trends and performance through Machine Learning to datermine possible courses of action or new strategies generally for the near term."
   ]
  },
  {
   "cell_type": "markdown",
   "id": "1a3cee4d",
   "metadata": {},
   "source": [
    "### 6. Write five real-life questions that Power-Bi can solve."
   ]
  },
  {
   "cell_type": "markdown",
   "id": "66bc0f10",
   "metadata": {},
   "source": [
    "*  __Power-BI reports__---\n",
    "    - Sales Analysis Report\n",
    "    - Human Resource Reports\n",
    "    - Customer Profitability Reports\n",
    "    - Digital Marketing Reports\n",
    "    - Financial Analysis Reports"
   ]
  }
 ],
 "metadata": {
  "kernelspec": {
   "display_name": "Python 3 (ipykernel)",
   "language": "python",
   "name": "python3"
  },
  "language_info": {
   "codemirror_mode": {
    "name": "ipython",
    "version": 3
   },
   "file_extension": ".py",
   "mimetype": "text/x-python",
   "name": "python",
   "nbconvert_exporter": "python",
   "pygments_lexer": "ipython3",
   "version": "3.9.12"
  }
 },
 "nbformat": 4,
 "nbformat_minor": 5
}
