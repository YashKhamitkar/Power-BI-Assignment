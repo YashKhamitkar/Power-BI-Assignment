{
 "cells": [
  {
   "cell_type": "markdown",
   "id": "f5d2c346",
   "metadata": {},
   "source": [
    "### 1.\tExplain the advantages of Natural Queries in PowerBi with an example?"
   ]
  },
  {
   "cell_type": "markdown",
   "id": "7e7634d8",
   "metadata": {},
   "source": [
    "*  To get an answer from data is to perform a search over data using natural language is call queries. The Q&A feature in Power-BI let us explore our own words using natural language.\n",
    "*  Just by typing a question in a natural language, we got a chart with the desired data without the need to technically format any visualization.\n",
    "*  __Guided Natural Query is a Unique Self-Service BI Experience-__Provides immediate assistance on the question as we want to ask with no guesswork or technical knowledge request to get started using the tool.\n",
    "* __Every Question is Understand By Natural Language Query-__ There is no neet to setup synonyms and word dictionaries.\n",
    "*  __Natural Language Query Makes Simple To Ask Complex Questions-__ Approaches question complexity differently by implementing thousands of comprehensively modelled question types and sequences, which effectively enables anyone to ask questions of their data and to deliver answers as best visualizations or tabular reports for every possible question."
   ]
  },
  {
   "cell_type": "markdown",
   "id": "00105e9a",
   "metadata": {},
   "source": [
    "### 2.  Explain Web Front End (WFE) cluster from Power-BI Service Architecture?"
   ]
  },
  {
   "cell_type": "markdown",
   "id": "ab162b6a",
   "metadata": {},
   "source": [
    "*  The Power-BI service architecture is based on two clusters - The Web Front End and Back End cluster.\n",
    "* The Web Front End manages the intial connection and authentication to the Power-BI service and once authenticated the back end handles all subsequent user interactions.\n",
    "*  Power-BI uses Azure Active Directory(AAD) to store and manage user identities and manages the storage of data and metadata using Azure BLOB and Azure SQL Database.\n",
    "*  Power-BI also uses the Azure Traffic Manager(ATM) to direct user traffic to the nearest data centre, determined by the DNS record of the client attempting to connect for the authentication process and to download static content and files.\n",
    "*  Azure Content Delivery Network(CDN) to efficiently distribute the necessary static content and files to users based on geographical locale.\n",
    "*  ASP.NET is an open source, server-side web-application framework designed for web development to produce dynamic web pages."
   ]
  },
  {
   "cell_type": "code",
   "execution_count": null,
   "id": "c658fc28",
   "metadata": {},
   "outputs": [],
   "source": []
  }
 ],
 "metadata": {
  "kernelspec": {
   "display_name": "Python 3 (ipykernel)",
   "language": "python",
   "name": "python3"
  },
  "language_info": {
   "codemirror_mode": {
    "name": "ipython",
    "version": 3
   },
   "file_extension": ".py",
   "mimetype": "text/x-python",
   "name": "python",
   "nbconvert_exporter": "python",
   "pygments_lexer": "ipython3",
   "version": "3.9.12"
  }
 },
 "nbformat": 4,
 "nbformat_minor": 5
}
